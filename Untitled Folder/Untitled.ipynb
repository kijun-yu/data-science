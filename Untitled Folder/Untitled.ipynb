{
 "cells": [
  {
   "cell_type": "code",
   "execution_count": 1,
   "id": "abaef614",
   "metadata": {},
   "outputs": [],
   "source": [
    "import pandas as pd\n",
    "import numpy as np"
   ]
  },
  {
   "cell_type": "code",
   "execution_count": 10,
   "id": "60875a4a",
   "metadata": {},
   "outputs": [],
   "source": [
    "train = pd.read_csv(\"train.txt\")"
   ]
  },
  {
   "cell_type": "code",
   "execution_count": 11,
   "id": "aeb8d1c2",
   "metadata": {},
   "outputs": [],
   "source": [
    "test = pd.read_csv(\"test.txt\")"
   ]
  },
  {
   "cell_type": "code",
   "execution_count": 4,
   "id": "b49947bc",
   "metadata": {},
   "outputs": [
    {
     "data": {
      "text/html": [
       "<div>\n",
       "<style scoped>\n",
       "    .dataframe tbody tr th:only-of-type {\n",
       "        vertical-align: middle;\n",
       "    }\n",
       "\n",
       "    .dataframe tbody tr th {\n",
       "        vertical-align: top;\n",
       "    }\n",
       "\n",
       "    .dataframe thead th {\n",
       "        text-align: right;\n",
       "    }\n",
       "</style>\n",
       "<table border=\"1\" class=\"dataframe\">\n",
       "  <thead>\n",
       "    <tr style=\"text-align: right;\">\n",
       "      <th></th>\n",
       "      <th>parents</th>\n",
       "      <th>has_nurs</th>\n",
       "      <th>form</th>\n",
       "      <th>children</th>\n",
       "      <th>housing</th>\n",
       "      <th>finance</th>\n",
       "      <th>social</th>\n",
       "      <th>health</th>\n",
       "      <th>NURSERY</th>\n",
       "    </tr>\n",
       "  </thead>\n",
       "  <tbody>\n",
       "    <tr>\n",
       "      <th>0</th>\n",
       "      <td>pretentious</td>\n",
       "      <td>critical</td>\n",
       "      <td>incomplete</td>\n",
       "      <td>3</td>\n",
       "      <td>convenient</td>\n",
       "      <td>convenient</td>\n",
       "      <td>nonprob</td>\n",
       "      <td>priority</td>\n",
       "      <td>spec_prior</td>\n",
       "    </tr>\n",
       "    <tr>\n",
       "      <th>1</th>\n",
       "      <td>great_pret</td>\n",
       "      <td>improper</td>\n",
       "      <td>incomplete</td>\n",
       "      <td>2</td>\n",
       "      <td>convenient</td>\n",
       "      <td>inconv</td>\n",
       "      <td>problematic</td>\n",
       "      <td>recommended</td>\n",
       "      <td>spec_prior</td>\n",
       "    </tr>\n",
       "    <tr>\n",
       "      <th>2</th>\n",
       "      <td>pretentious</td>\n",
       "      <td>less_proper</td>\n",
       "      <td>incomplete</td>\n",
       "      <td>3</td>\n",
       "      <td>less_conv</td>\n",
       "      <td>inconv</td>\n",
       "      <td>nonprob</td>\n",
       "      <td>recommended</td>\n",
       "      <td>priority</td>\n",
       "    </tr>\n",
       "    <tr>\n",
       "      <th>3</th>\n",
       "      <td>usual</td>\n",
       "      <td>less_proper</td>\n",
       "      <td>incomplete</td>\n",
       "      <td>more</td>\n",
       "      <td>less_conv</td>\n",
       "      <td>convenient</td>\n",
       "      <td>slightly_prob</td>\n",
       "      <td>recommended</td>\n",
       "      <td>priority</td>\n",
       "    </tr>\n",
       "    <tr>\n",
       "      <th>4</th>\n",
       "      <td>great_pret</td>\n",
       "      <td>critical</td>\n",
       "      <td>complete</td>\n",
       "      <td>1</td>\n",
       "      <td>critical</td>\n",
       "      <td>inconv</td>\n",
       "      <td>problematic</td>\n",
       "      <td>priority</td>\n",
       "      <td>spec_prior</td>\n",
       "    </tr>\n",
       "  </tbody>\n",
       "</table>\n",
       "</div>"
      ],
      "text/plain": [
       "       parents     has_nurs        form children     housing     finance  \\\n",
       "0  pretentious     critical  incomplete        3  convenient  convenient   \n",
       "1   great_pret     improper  incomplete        2  convenient      inconv   \n",
       "2  pretentious  less_proper  incomplete        3   less_conv      inconv   \n",
       "3        usual  less_proper  incomplete     more   less_conv  convenient   \n",
       "4   great_pret     critical    complete        1    critical      inconv   \n",
       "\n",
       "          social       health     NURSERY  \n",
       "0        nonprob     priority  spec_prior  \n",
       "1    problematic  recommended  spec_prior  \n",
       "2        nonprob  recommended    priority  \n",
       "3  slightly_prob  recommended    priority  \n",
       "4    problematic     priority  spec_prior  "
      ]
     },
     "execution_count": 4,
     "metadata": {},
     "output_type": "execute_result"
    }
   ],
   "source": [
    "train.head()"
   ]
  },
  {
   "cell_type": "code",
   "execution_count": 5,
   "id": "e2066b16",
   "metadata": {},
   "outputs": [
    {
     "data": {
      "text/html": [
       "<div>\n",
       "<style scoped>\n",
       "    .dataframe tbody tr th:only-of-type {\n",
       "        vertical-align: middle;\n",
       "    }\n",
       "\n",
       "    .dataframe tbody tr th {\n",
       "        vertical-align: top;\n",
       "    }\n",
       "\n",
       "    .dataframe thead th {\n",
       "        text-align: right;\n",
       "    }\n",
       "</style>\n",
       "<table border=\"1\" class=\"dataframe\">\n",
       "  <thead>\n",
       "    <tr style=\"text-align: right;\">\n",
       "      <th></th>\n",
       "      <th>parents</th>\n",
       "      <th>has_nurs</th>\n",
       "      <th>form</th>\n",
       "      <th>children</th>\n",
       "      <th>housing</th>\n",
       "      <th>finance</th>\n",
       "      <th>social</th>\n",
       "      <th>health</th>\n",
       "    </tr>\n",
       "  </thead>\n",
       "  <tbody>\n",
       "    <tr>\n",
       "      <th>0</th>\n",
       "      <td>usual</td>\n",
       "      <td>proper</td>\n",
       "      <td>complete</td>\n",
       "      <td>2</td>\n",
       "      <td>less_conv</td>\n",
       "      <td>convenient</td>\n",
       "      <td>problematic</td>\n",
       "      <td>not_recom</td>\n",
       "    </tr>\n",
       "    <tr>\n",
       "      <th>1</th>\n",
       "      <td>pretentious</td>\n",
       "      <td>very_crit</td>\n",
       "      <td>completed</td>\n",
       "      <td>more</td>\n",
       "      <td>less_conv</td>\n",
       "      <td>inconv</td>\n",
       "      <td>nonprob</td>\n",
       "      <td>priority</td>\n",
       "    </tr>\n",
       "    <tr>\n",
       "      <th>2</th>\n",
       "      <td>great_pret</td>\n",
       "      <td>proper</td>\n",
       "      <td>incomplete</td>\n",
       "      <td>3</td>\n",
       "      <td>convenient</td>\n",
       "      <td>convenient</td>\n",
       "      <td>slightly_prob</td>\n",
       "      <td>recommended</td>\n",
       "    </tr>\n",
       "    <tr>\n",
       "      <th>3</th>\n",
       "      <td>pretentious</td>\n",
       "      <td>less_proper</td>\n",
       "      <td>foster</td>\n",
       "      <td>more</td>\n",
       "      <td>convenient</td>\n",
       "      <td>convenient</td>\n",
       "      <td>slightly_prob</td>\n",
       "      <td>recommended</td>\n",
       "    </tr>\n",
       "    <tr>\n",
       "      <th>4</th>\n",
       "      <td>usual</td>\n",
       "      <td>proper</td>\n",
       "      <td>complete</td>\n",
       "      <td>1</td>\n",
       "      <td>convenient</td>\n",
       "      <td>convenient</td>\n",
       "      <td>slightly_prob</td>\n",
       "      <td>recommended</td>\n",
       "    </tr>\n",
       "    <tr>\n",
       "      <th>5</th>\n",
       "      <td>usual</td>\n",
       "      <td>critical</td>\n",
       "      <td>foster</td>\n",
       "      <td>1</td>\n",
       "      <td>convenient</td>\n",
       "      <td>convenient</td>\n",
       "      <td>slightly_prob</td>\n",
       "      <td>recommended</td>\n",
       "    </tr>\n",
       "    <tr>\n",
       "      <th>6</th>\n",
       "      <td>usual</td>\n",
       "      <td>critical</td>\n",
       "      <td>foster</td>\n",
       "      <td>1</td>\n",
       "      <td>convenient</td>\n",
       "      <td>convenient</td>\n",
       "      <td>nonprob</td>\n",
       "      <td>not_recom</td>\n",
       "    </tr>\n",
       "    <tr>\n",
       "      <th>7</th>\n",
       "      <td>pretentious</td>\n",
       "      <td>very_crit</td>\n",
       "      <td>completed</td>\n",
       "      <td>more</td>\n",
       "      <td>less_conv</td>\n",
       "      <td>inconv</td>\n",
       "      <td>slightly_prob</td>\n",
       "      <td>priority</td>\n",
       "    </tr>\n",
       "    <tr>\n",
       "      <th>8</th>\n",
       "      <td>pretentious</td>\n",
       "      <td>proper</td>\n",
       "      <td>completed</td>\n",
       "      <td>more</td>\n",
       "      <td>convenient</td>\n",
       "      <td>convenient</td>\n",
       "      <td>nonprob</td>\n",
       "      <td>recommended</td>\n",
       "    </tr>\n",
       "    <tr>\n",
       "      <th>9</th>\n",
       "      <td>usual</td>\n",
       "      <td>proper</td>\n",
       "      <td>complete</td>\n",
       "      <td>1</td>\n",
       "      <td>convenient</td>\n",
       "      <td>convenient</td>\n",
       "      <td>nonprob</td>\n",
       "      <td>recommended</td>\n",
       "    </tr>\n",
       "  </tbody>\n",
       "</table>\n",
       "</div>"
      ],
      "text/plain": [
       "       parents     has_nurs        form children     housing     finance  \\\n",
       "0        usual       proper    complete        2   less_conv  convenient   \n",
       "1  pretentious    very_crit   completed     more   less_conv      inconv   \n",
       "2   great_pret       proper  incomplete        3  convenient  convenient   \n",
       "3  pretentious  less_proper      foster     more  convenient  convenient   \n",
       "4        usual       proper    complete        1  convenient  convenient   \n",
       "5        usual     critical      foster        1  convenient  convenient   \n",
       "6        usual     critical      foster        1  convenient  convenient   \n",
       "7  pretentious    very_crit   completed     more   less_conv      inconv   \n",
       "8  pretentious       proper   completed     more  convenient  convenient   \n",
       "9        usual       proper    complete        1  convenient  convenient   \n",
       "\n",
       "          social       health  \n",
       "0    problematic    not_recom  \n",
       "1        nonprob     priority  \n",
       "2  slightly_prob  recommended  \n",
       "3  slightly_prob  recommended  \n",
       "4  slightly_prob  recommended  \n",
       "5  slightly_prob  recommended  \n",
       "6        nonprob    not_recom  \n",
       "7  slightly_prob     priority  \n",
       "8        nonprob  recommended  \n",
       "9        nonprob  recommended  "
      ]
     },
     "execution_count": 5,
     "metadata": {},
     "output_type": "execute_result"
    }
   ],
   "source": [
    "test"
   ]
  },
  {
   "cell_type": "code",
   "execution_count": 6,
   "id": "366c7ad1",
   "metadata": {},
   "outputs": [],
   "source": [
    "def train_and_test(model):\n",
    "    model.fit(train_data, train_label)\n",
    "    prediction = model.predict(test_data)\n",
    "    accuracy = round(model.score(train_data, train_label) * 100, 2)\n",
    "    print(\"Accuracy: \", accuracy, \"%\")\n",
    "    return prediction"
   ]
  },
  {
   "cell_type": "code",
   "execution_count": 20,
   "id": "23eb5bc5",
   "metadata": {},
   "outputs": [],
   "source": [
    "train = pd.get_dummies(train)\n",
    "test = pd.get_dummies(test)"
   ]
  },
  {
   "cell_type": "code",
   "execution_count": 21,
   "id": "09e07711",
   "metadata": {},
   "outputs": [],
   "source": [
    "train_label = train[\"NURSERY\"]"
   ]
  },
  {
   "cell_type": "code",
   "execution_count": 22,
   "id": "c34f4f99",
   "metadata": {},
   "outputs": [
    {
     "data": {
      "text/plain": [
       "array([0, 1, 2, 3], dtype=int64)"
      ]
     },
     "execution_count": 22,
     "metadata": {},
     "output_type": "execute_result"
    }
   ],
   "source": [
    "train_label.unique()"
   ]
  },
  {
   "cell_type": "code",
   "execution_count": 18,
   "id": "609262b6",
   "metadata": {},
   "outputs": [],
   "source": [
    "train[\"NURSERY\"] = train_label.map({'spec_prior':0, 'priority':1, 'not_recom':2, 'very_recom':3})"
   ]
  },
  {
   "cell_type": "code",
   "execution_count": 23,
   "id": "02cad85c",
   "metadata": {},
   "outputs": [],
   "source": [
    "from sklearn.svm import SVC"
   ]
  },
  {
   "cell_type": "code",
   "execution_count": 25,
   "id": "d718b942",
   "metadata": {},
   "outputs": [],
   "source": [
    "train_data = train.drop(\"NURSERY\",axis = 1)"
   ]
  },
  {
   "cell_type": "code",
   "execution_count": 26,
   "id": "bbd91793",
   "metadata": {},
   "outputs": [],
   "source": [
    "test_data = test"
   ]
  },
  {
   "cell_type": "code",
   "execution_count": 28,
   "id": "c29c6b66",
   "metadata": {},
   "outputs": [],
   "source": [
    "test_data[\"has_nurs_improper\"] = [0] * len(test_data)\n",
    "test_data[\"housing_critical\"] = [0] * len(test_data)"
   ]
  },
  {
   "cell_type": "code",
   "execution_count": 33,
   "id": "6877a01d",
   "metadata": {},
   "outputs": [
    {
     "data": {
      "text/plain": [
       "Index(['parents_great_pret', 'parents_pretentious', 'parents_usual',\n",
       "       'has_nurs_critical', 'has_nurs_improper', 'has_nurs_less_proper',\n",
       "       'has_nurs_proper', 'has_nurs_very_crit', 'form_complete',\n",
       "       'form_completed', 'form_foster', 'form_incomplete', 'children_1',\n",
       "       'children_2', 'children_3', 'children_more', 'housing_convenient',\n",
       "       'housing_critical', 'housing_less_conv', 'finance_convenient',\n",
       "       'finance_inconv', 'social_nonprob', 'social_problematic',\n",
       "       'social_slightly_prob', 'health_not_recom', 'health_priority',\n",
       "       'health_recommended'],\n",
       "      dtype='object')"
      ]
     },
     "execution_count": 33,
     "metadata": {},
     "output_type": "execute_result"
    }
   ],
   "source": [
    "train_data.columns"
   ]
  },
  {
   "cell_type": "code",
   "execution_count": 34,
   "id": "8acc3b26",
   "metadata": {},
   "outputs": [],
   "source": [
    "test_data = test_data[['parents_great_pret', 'parents_pretentious', 'parents_usual',\n",
    "       'has_nurs_critical', 'has_nurs_improper', 'has_nurs_less_proper',\n",
    "       'has_nurs_proper', 'has_nurs_very_crit', 'form_complete',\n",
    "       'form_completed', 'form_foster', 'form_incomplete', 'children_1',\n",
    "       'children_2', 'children_3', 'children_more', 'housing_convenient',\n",
    "       'housing_critical', 'housing_less_conv', 'finance_convenient',\n",
    "       'finance_inconv', 'social_nonprob', 'social_problematic',\n",
    "       'social_slightly_prob', 'health_not_recom', 'health_priority',\n",
    "       'health_recommended']]"
   ]
  },
  {
   "cell_type": "code",
   "execution_count": 35,
   "id": "9cdace85",
   "metadata": {},
   "outputs": [
    {
     "name": "stdout",
     "output_type": "stream",
     "text": [
      "Accuracy:  100.0 %\n"
     ]
    }
   ],
   "source": [
    "#SVM\n",
    "svm_pred = train_and_test(SVC())"
   ]
  },
  {
   "cell_type": "code",
   "execution_count": 36,
   "id": "3793edf5",
   "metadata": {},
   "outputs": [],
   "source": [
    "from sklearn.linear_model import LogisticRegression\n",
    "from sklearn.svm import SVC\n",
    "from sklearn.neighbors import KNeighborsClassifier\n",
    "from sklearn.ensemble import RandomForestClassifier\n",
    "from sklearn.naive_bayes import GaussianNB"
   ]
  },
  {
   "cell_type": "code",
   "execution_count": 37,
   "id": "b40976fa",
   "metadata": {},
   "outputs": [
    {
     "name": "stderr",
     "output_type": "stream",
     "text": [
      "C:\\ProgramData\\Anaconda3\\lib\\site-packages\\sklearn\\linear_model\\_logistic.py:458: ConvergenceWarning: lbfgs failed to converge (status=1):\n",
      "STOP: TOTAL NO. of ITERATIONS REACHED LIMIT.\n",
      "\n",
      "Increase the number of iterations (max_iter) or scale the data as shown in:\n",
      "    https://scikit-learn.org/stable/modules/preprocessing.html\n",
      "Please also refer to the documentation for alternative solver options:\n",
      "    https://scikit-learn.org/stable/modules/linear_model.html#logistic-regression\n",
      "  n_iter_i = _check_optimize_result(\n"
     ]
    },
    {
     "name": "stdout",
     "output_type": "stream",
     "text": [
      "Accuracy:  92.66 %\n",
      "Accuracy:  100.0 %\n",
      "Accuracy:  97.61 %\n",
      "Accuracy:  100.0 %\n",
      "Accuracy:  84.21 %\n"
     ]
    }
   ],
   "source": [
    "#LR\n",
    "log_pred = train_and_test(LogisticRegression())\n",
    "\n",
    "#SVM\n",
    "svm_pred = train_and_test(SVC())\n",
    "\n",
    "#kNN\n",
    "knn_pred = train_and_test(KNeighborsClassifier(n_neighbors = 10))\n",
    "\n",
    "#rf\n",
    "rf_pred = train_and_test(RandomForestClassifier(n_estimators = 100))\n",
    "\n",
    "#NB\n",
    "nb_pred = train_and_test(GaussianNB())"
   ]
  },
  {
   "cell_type": "code",
   "execution_count": null,
   "id": "aa1de735",
   "metadata": {},
   "outputs": [],
   "source": []
  }
 ],
 "metadata": {
  "kernelspec": {
   "display_name": "Python 3 (ipykernel)",
   "language": "python",
   "name": "python3"
  },
  "language_info": {
   "codemirror_mode": {
    "name": "ipython",
    "version": 3
   },
   "file_extension": ".py",
   "mimetype": "text/x-python",
   "name": "python",
   "nbconvert_exporter": "python",
   "pygments_lexer": "ipython3",
   "version": "3.8.16"
  }
 },
 "nbformat": 4,
 "nbformat_minor": 5
}
