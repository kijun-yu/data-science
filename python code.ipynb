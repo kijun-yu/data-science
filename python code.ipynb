{
 "cells": [
  {
   "cell_type": "code",
   "execution_count": 3,
   "id": "60bf97d4",
   "metadata": {},
   "outputs": [],
   "source": [
    "empty_list = list()\n",
    "empty_list = []\n",
    "\n",
    "test_list = [1, 2, 3, \"Hi\", 3.14, \"Hello\"]"
   ]
  },
  {
   "cell_type": "code",
   "execution_count": 5,
   "id": "b3572a56",
   "metadata": {},
   "outputs": [
    {
     "name": "stdout",
     "output_type": "stream",
     "text": [
      "Hello\n"
     ]
    }
   ],
   "source": [
    "print(test_list[5])"
   ]
  },
  {
   "cell_type": "code",
   "execution_count": 8,
   "id": "f2045ab3",
   "metadata": {},
   "outputs": [],
   "source": [
    "test_list[1] = 7"
   ]
  },
  {
   "cell_type": "code",
   "execution_count": 9,
   "id": "3c6948b7",
   "metadata": {},
   "outputs": [
    {
     "data": {
      "text/plain": [
       "[1, 7, 3, 'Hi', 3.14, 'Hello']"
      ]
     },
     "execution_count": 9,
     "metadata": {},
     "output_type": "execute_result"
    }
   ],
   "source": [
    "test_list"
   ]
  },
  {
   "cell_type": "code",
   "execution_count": 10,
   "id": "19beccb6",
   "metadata": {},
   "outputs": [],
   "source": [
    "test_list = [1, 7, 3, 'Hi', 3.14, 'Hello',1,1,1]"
   ]
  },
  {
   "cell_type": "code",
   "execution_count": 11,
   "id": "f46bb649",
   "metadata": {},
   "outputs": [
    {
     "data": {
      "text/plain": [
       "[1, 7, 3, 'Hi', 3.14, 'Hello', 1, 1, 1]"
      ]
     },
     "execution_count": 11,
     "metadata": {},
     "output_type": "execute_result"
    }
   ],
   "source": [
    "test_list"
   ]
  },
  {
   "cell_type": "code",
   "execution_count": 12,
   "id": "0dcb3a5c",
   "metadata": {},
   "outputs": [
    {
     "name": "stdout",
     "output_type": "stream",
     "text": [
      "[1, 7, 'Hi', 3.14, 'Hello', 1, 1, 1]\n"
     ]
    }
   ],
   "source": [
    "test_list.remove(3)\n",
    "print(test_list)"
   ]
  },
  {
   "cell_type": "code",
   "execution_count": 13,
   "id": "81606abc",
   "metadata": {},
   "outputs": [
    {
     "data": {
      "text/plain": [
       "'Hello'"
      ]
     },
     "execution_count": 13,
     "metadata": {},
     "output_type": "execute_result"
    }
   ],
   "source": [
    "test_list.pop(4)"
   ]
  },
  {
   "cell_type": "code",
   "execution_count": 14,
   "id": "06f8b66a",
   "metadata": {},
   "outputs": [
    {
     "data": {
      "text/plain": [
       "[1, 7, 'Hi', 3.14, 1, 1, 1]"
      ]
     },
     "execution_count": 14,
     "metadata": {},
     "output_type": "execute_result"
    }
   ],
   "source": [
    "test_list"
   ]
  },
  {
   "cell_type": "code",
   "execution_count": 15,
   "id": "6c0cc878",
   "metadata": {},
   "outputs": [],
   "source": [
    "test_list.append(30)"
   ]
  },
  {
   "cell_type": "code",
   "execution_count": 16,
   "id": "08c0eb6c",
   "metadata": {},
   "outputs": [
    {
     "data": {
      "text/plain": [
       "[1, 7, 'Hi', 3.14, 1, 1, 1, 30]"
      ]
     },
     "execution_count": 16,
     "metadata": {},
     "output_type": "execute_result"
    }
   ],
   "source": [
    "test_list"
   ]
  },
  {
   "cell_type": "code",
   "execution_count": 17,
   "id": "34ea9791",
   "metadata": {},
   "outputs": [],
   "source": [
    "test_list.insert(0, \"1st position\")"
   ]
  },
  {
   "cell_type": "code",
   "execution_count": 18,
   "id": "7dd7a1d1",
   "metadata": {},
   "outputs": [
    {
     "data": {
      "text/plain": [
       "['1st position', 1, 7, 'Hi', 3.14, 1, 1, 1, 30]"
      ]
     },
     "execution_count": 18,
     "metadata": {},
     "output_type": "execute_result"
    }
   ],
   "source": [
    "test_list"
   ]
  },
  {
   "cell_type": "code",
   "execution_count": 19,
   "id": "964b459b",
   "metadata": {},
   "outputs": [],
   "source": [
    "test_list.remove(1)"
   ]
  },
  {
   "cell_type": "code",
   "execution_count": 20,
   "id": "cd681257",
   "metadata": {},
   "outputs": [
    {
     "data": {
      "text/plain": [
       "['1st position', 7, 'Hi', 3.14, 1, 1, 1, 30]"
      ]
     },
     "execution_count": 20,
     "metadata": {},
     "output_type": "execute_result"
    }
   ],
   "source": [
    "test_list"
   ]
  },
  {
   "cell_type": "code",
   "execution_count": 24,
   "id": "4d5f0809",
   "metadata": {},
   "outputs": [
    {
     "data": {
      "text/plain": [
       "False"
      ]
     },
     "execution_count": 24,
     "metadata": {},
     "output_type": "execute_result"
    }
   ],
   "source": [
    "2 in test_list"
   ]
  },
  {
   "cell_type": "code",
   "execution_count": 25,
   "id": "cbb8dd19",
   "metadata": {},
   "outputs": [
    {
     "data": {
      "text/plain": [
       "True"
      ]
     },
     "execution_count": 25,
     "metadata": {},
     "output_type": "execute_result"
    }
   ],
   "source": [
    "1 in test_list"
   ]
  },
  {
   "cell_type": "code",
   "execution_count": 26,
   "id": "23c9f2b6",
   "metadata": {},
   "outputs": [],
   "source": [
    "test_list.clear()"
   ]
  },
  {
   "cell_type": "code",
   "execution_count": 27,
   "id": "337a8717",
   "metadata": {},
   "outputs": [
    {
     "data": {
      "text/plain": [
       "[]"
      ]
     },
     "execution_count": 27,
     "metadata": {},
     "output_type": "execute_result"
    }
   ],
   "source": [
    "test_list"
   ]
  },
  {
   "cell_type": "code",
   "execution_count": 28,
   "id": "05b3aea9",
   "metadata": {},
   "outputs": [
    {
     "data": {
      "text/plain": [
       "0"
      ]
     },
     "execution_count": 28,
     "metadata": {},
     "output_type": "execute_result"
    }
   ],
   "source": [
    "len(test_list)"
   ]
  },
  {
   "cell_type": "code",
   "execution_count": 29,
   "id": "afe1d86b",
   "metadata": {},
   "outputs": [],
   "source": [
    "data = []\n",
    "data.append([\"Age\",\"Gender\",\"Education Level\",\"Job Title\",\"Years of Experience\",\"Salary\"])\n",
    "data.append([32,\"Male\",\"Bachelor's\",\"Software Engineer\",5,90000])"
   ]
  },
  {
   "cell_type": "code",
   "execution_count": 30,
   "id": "4e10d7e5",
   "metadata": {},
   "outputs": [
    {
     "data": {
      "text/plain": [
       "[['Age',\n",
       "  'Gender',\n",
       "  'Education Level',\n",
       "  'Job Title',\n",
       "  'Years of Experience',\n",
       "  'Salary'],\n",
       " [32, 'Male', \"Bachelor's\", 'Software Engineer', 5, 90000]]"
      ]
     },
     "execution_count": 30,
     "metadata": {},
     "output_type": "execute_result"
    }
   ],
   "source": [
    "data"
   ]
  },
  {
   "cell_type": "code",
   "execution_count": null,
   "id": "c2bf310f",
   "metadata": {},
   "outputs": [],
   "source": []
  },
  {
   "cell_type": "code",
   "execution_count": null,
   "id": "7d3b4830",
   "metadata": {},
   "outputs": [],
   "source": []
  },
  {
   "cell_type": "code",
   "execution_count": null,
   "id": "f0db22da",
   "metadata": {},
   "outputs": [],
   "source": []
  },
  {
   "cell_type": "code",
   "execution_count": null,
   "id": "494c0b33",
   "metadata": {},
   "outputs": [],
   "source": []
  },
  {
   "cell_type": "code",
   "execution_count": null,
   "id": "3015f9f6",
   "metadata": {},
   "outputs": [],
   "source": []
  },
  {
   "cell_type": "code",
   "execution_count": 37,
   "id": "17c4d81c",
   "metadata": {},
   "outputs": [],
   "source": [
    "empty_dict = {}\n",
    "empty_dict = dict()\n",
    "\n",
    "test_dict = {\"Key\":\"Value\"}"
   ]
  },
  {
   "cell_type": "code",
   "execution_count": 38,
   "id": "182481a8",
   "metadata": {},
   "outputs": [],
   "source": [
    "test_dict2 = {1:999}"
   ]
  },
  {
   "cell_type": "code",
   "execution_count": 39,
   "id": "98e67e05",
   "metadata": {},
   "outputs": [
    {
     "data": {
      "text/plain": [
       "999"
      ]
     },
     "execution_count": 39,
     "metadata": {},
     "output_type": "execute_result"
    }
   ],
   "source": [
    "test_dict2[1]"
   ]
  },
  {
   "cell_type": "code",
   "execution_count": 40,
   "id": "dbac22a1",
   "metadata": {},
   "outputs": [
    {
     "data": {
      "text/plain": [
       "'Value'"
      ]
     },
     "execution_count": 40,
     "metadata": {},
     "output_type": "execute_result"
    }
   ],
   "source": [
    "test_dict[\"Key\"]"
   ]
  },
  {
   "cell_type": "code",
   "execution_count": 41,
   "id": "13997ded",
   "metadata": {},
   "outputs": [],
   "source": [
    "test_dict[\"Key\"] = 999"
   ]
  },
  {
   "cell_type": "code",
   "execution_count": 42,
   "id": "b0d32e0a",
   "metadata": {},
   "outputs": [
    {
     "data": {
      "text/plain": [
       "{'Key': 999}"
      ]
     },
     "execution_count": 42,
     "metadata": {},
     "output_type": "execute_result"
    }
   ],
   "source": [
    "test_dict"
   ]
  },
  {
   "cell_type": "code",
   "execution_count": 43,
   "id": "6e2285c7",
   "metadata": {},
   "outputs": [],
   "source": [
    "test_dict.clear()"
   ]
  },
  {
   "cell_type": "code",
   "execution_count": 44,
   "id": "f628f81c",
   "metadata": {},
   "outputs": [
    {
     "data": {
      "text/plain": [
       "{}"
      ]
     },
     "execution_count": 44,
     "metadata": {},
     "output_type": "execute_result"
    }
   ],
   "source": [
    "test_dict"
   ]
  },
  {
   "cell_type": "code",
   "execution_count": 45,
   "id": "4b1961c5",
   "metadata": {},
   "outputs": [],
   "source": [
    "test_dict2[2] = 1000"
   ]
  },
  {
   "cell_type": "code",
   "execution_count": 46,
   "id": "45e36298",
   "metadata": {},
   "outputs": [
    {
     "name": "stdout",
     "output_type": "stream",
     "text": [
      "{1: 999, 2: 1000}\n"
     ]
    }
   ],
   "source": [
    "print(test_dict2)"
   ]
  },
  {
   "cell_type": "code",
   "execution_count": 47,
   "id": "6f0fda81",
   "metadata": {},
   "outputs": [
    {
     "data": {
      "text/plain": [
       "999"
      ]
     },
     "execution_count": 47,
     "metadata": {},
     "output_type": "execute_result"
    }
   ],
   "source": [
    "test_dict2.pop(1)"
   ]
  },
  {
   "cell_type": "code",
   "execution_count": 48,
   "id": "4c706091",
   "metadata": {},
   "outputs": [
    {
     "data": {
      "text/plain": [
       "{2: 1000}"
      ]
     },
     "execution_count": 48,
     "metadata": {},
     "output_type": "execute_result"
    }
   ],
   "source": [
    "test_dict2"
   ]
  },
  {
   "cell_type": "code",
   "execution_count": 49,
   "id": "d43ba158",
   "metadata": {},
   "outputs": [],
   "source": [
    "del test_dict2[2]"
   ]
  },
  {
   "cell_type": "code",
   "execution_count": 50,
   "id": "8f493a92",
   "metadata": {},
   "outputs": [
    {
     "data": {
      "text/plain": [
       "{}"
      ]
     },
     "execution_count": 50,
     "metadata": {},
     "output_type": "execute_result"
    }
   ],
   "source": [
    "test_dict2"
   ]
  },
  {
   "cell_type": "code",
   "execution_count": 51,
   "id": "8480417d",
   "metadata": {},
   "outputs": [],
   "source": [
    "data = {\"Age\":[32,28,45], \"Gender\":[\"M\",\"F\",\"M\"], \"YoE\":[5,3,15], \"Salary\":[90000,65000,150000]}"
   ]
  },
  {
   "cell_type": "code",
   "execution_count": 52,
   "id": "e27f7eb2",
   "metadata": {},
   "outputs": [
    {
     "data": {
      "text/plain": [
       "{'Age': [32, 28, 45],\n",
       " 'Gender': ['M', 'F', 'M'],\n",
       " 'YoE': [5, 3, 15],\n",
       " 'Salary': [90000, 65000, 150000]}"
      ]
     },
     "execution_count": 52,
     "metadata": {},
     "output_type": "execute_result"
    }
   ],
   "source": [
    "data"
   ]
  },
  {
   "cell_type": "code",
   "execution_count": 55,
   "id": "d0452735",
   "metadata": {},
   "outputs": [
    {
     "name": "stdout",
     "output_type": "stream",
     "text": [
      "Age : 32\n",
      "Gender : M\n",
      "YoE : 5\n",
      "Salary : 90000\n"
     ]
    }
   ],
   "source": [
    "for k,v in data.items():\n",
    "    print(k , \":\", v[0])"
   ]
  },
  {
   "cell_type": "code",
   "execution_count": 57,
   "id": "d40aacd1",
   "metadata": {},
   "outputs": [
    {
     "name": "stdout",
     "output_type": "stream",
     "text": [
      "90000\n",
      "65000\n",
      "people with salary less than 100000: 2\n"
     ]
    }
   ],
   "source": [
    "count = 0\n",
    "for salary in data[\"Salary\"]:\n",
    "    if salary < 100000:\n",
    "        print (salary)\n",
    "        count += 1\n",
    "    else:\n",
    "        pass\n",
    "print(\"people with salary less than 100000:\", count)"
   ]
  },
  {
   "cell_type": "code",
   "execution_count": 58,
   "id": "b332d215",
   "metadata": {},
   "outputs": [
    {
     "name": "stdout",
     "output_type": "stream",
     "text": [
      "people with age even 2\n"
     ]
    }
   ],
   "source": [
    "count = 0\n",
    "for age in data[\"Age\"]:\n",
    "    if age % 2 == 0:\n",
    "\n",
    "        count += 1\n",
    "    else:\n",
    "        pass\n",
    "print(\"people with age even\", count)"
   ]
  },
  {
   "cell_type": "code",
   "execution_count": 59,
   "id": "65147d37",
   "metadata": {},
   "outputs": [
    {
     "name": "stdout",
     "output_type": "stream",
     "text": [
      "people with yoe mult of 5 2\n"
     ]
    }
   ],
   "source": [
    "count = 0\n",
    "for yoe in data[\"YoE\"]:\n",
    "    if yoe % 5 == 0:\n",
    "        count += 1\n",
    "    else:\n",
    "        pass\n",
    "print(\"people with yoe mult of 5\", count)"
   ]
  },
  {
   "cell_type": "code",
   "execution_count": 63,
   "id": "35410334",
   "metadata": {},
   "outputs": [
    {
     "name": "stdout",
     "output_type": "stream",
     "text": [
      "people female 1\n"
     ]
    }
   ],
   "source": [
    "count = 0\n",
    "for gen in data[\"Gender\"]:\n",
    "    if gen != \"M\":\n",
    "        count += 1\n",
    "    else:\n",
    "        pass\n",
    "print(\"people female\", count)"
   ]
  },
  {
   "cell_type": "code",
   "execution_count": null,
   "id": "0e370ebb",
   "metadata": {},
   "outputs": [],
   "source": []
  }
 ],
 "metadata": {
  "kernelspec": {
   "display_name": "Python 3 (ipykernel)",
   "language": "python",
   "name": "python3"
  },
  "language_info": {
   "codemirror_mode": {
    "name": "ipython",
    "version": 3
   },
   "file_extension": ".py",
   "mimetype": "text/x-python",
   "name": "python",
   "nbconvert_exporter": "python",
   "pygments_lexer": "ipython3",
   "version": "3.8.16"
  }
 },
 "nbformat": 4,
 "nbformat_minor": 5
}
