{
 "cells": [
  {
   "cell_type": "code",
   "execution_count": 3,
   "id": "e57414a8",
   "metadata": {},
   "outputs": [],
   "source": [
    "import numpy as np\n",
    "data = {\"Names\":[\"Jacob\", \"Ian\", \"Jihoon\", \"Hyunmin\", \"Kijun\"], \n",
    "        \"Math\":[90,95,90,85,90], \"English\":[95,90,85,85,90], \n",
    "        \"Science\":[85,85,90,95,95], \"History\": [90,80,70,70,75]}"
   ]
  },
  {
   "cell_type": "code",
   "execution_count": 4,
   "id": "d2280f2e",
   "metadata": {},
   "outputs": [],
   "source": [
    "#1. findout average scores of each 4 subjects.\n",
    "\n",
    "#2. findout a student with highest score from each subject\n",
    "\n",
    "#3. findout a student with highest avg score from all 4 subjects\n",
    "\n",
    "#4. finout the class average score for all 4 subject combined.\n"
   ]
  },
  {
   "cell_type": "code",
   "execution_count": 5,
   "id": "5930922e",
   "metadata": {},
   "outputs": [
    {
     "name": "stdout",
     "output_type": "stream",
     "text": [
      "Math 90.0\n",
      "English 89.0\n",
      "Science 90.0\n",
      "History 77.0\n"
     ]
    }
   ],
   "source": [
    "#1. findout average scores of each 4 subjects.\n",
    "for i in [\"Math\", \"English\", \"Science\", \"History\"]:\n",
    "    print(i, np.mean(data[i]))"
   ]
  },
  {
   "cell_type": "code",
   "execution_count": 6,
   "id": "6598cab3",
   "metadata": {},
   "outputs": [
    {
     "name": "stdout",
     "output_type": "stream",
     "text": [
      "Math : Ian has 95\n",
      "English : Jacob has 95\n",
      "Science : Kijun has 95\n",
      "History : Jacob has 90\n"
     ]
    }
   ],
   "source": [
    "#2. findout a student with highest score from each subject\n",
    "for i in [\"Math\", \"English\", \"Science\", \"History\"]:\n",
    "    max_ = 0\n",
    "    index = 0\n",
    "    for idx,score in enumerate(data[i]):\n",
    "        if score >= max_:\n",
    "            max_ = score\n",
    "            index = idx\n",
    "    print(i,\":\",data[\"Names\"][index],'has',  max_)\n",
    "            \n",
    "        "
   ]
  },
  {
   "cell_type": "code",
   "execution_count": 8,
   "id": "574e88dd",
   "metadata": {},
   "outputs": [
    {
     "name": "stdout",
     "output_type": "stream",
     "text": [
      "Jacob : 90.0\n"
     ]
    }
   ],
   "source": [
    "#3. findout a student with highest avg score from all 4 subjects\n",
    "avg_scores = {}\n",
    "for i in range(5):\n",
    "    name = \"\"\n",
    "    for v in data.values():\n",
    "        if isinstance(v[i], str):\n",
    "            avg_scores[v[i]] = 0\n",
    "            name = v[i]\n",
    "        else:\n",
    "            avg_scores[name] += v[i]\n",
    "            \n",
    "max_ = 0\n",
    "name = \"\"\n",
    "for k,v in avg_scores.items():\n",
    "    if v/4 > max_:\n",
    "        name = k\n",
    "        max_ = v/4\n",
    "print(name,\":\", max_)\n"
   ]
  },
  {
   "cell_type": "code",
   "execution_count": 9,
   "id": "09d34c71",
   "metadata": {},
   "outputs": [
    {
     "name": "stdout",
     "output_type": "stream",
     "text": [
      "86.5\n"
     ]
    }
   ],
   "source": [
    "#4. finout the class average score for all 4 subject combined.\n",
    "sum_ = 0\n",
    "count = 0 \n",
    "for i in [\"Math\", \"English\", \"Science\", \"History\"]:\n",
    "    for j in range(len(data[i])):\n",
    "        sum_ += data[i][j]\n",
    "        count += 1\n",
    "print(sum_ / count)"
   ]
  },
  {
   "cell_type": "code",
   "execution_count": null,
   "id": "bc3a087b",
   "metadata": {},
   "outputs": [],
   "source": []
  }
 ],
 "metadata": {
  "kernelspec": {
   "display_name": "Python 3 (ipykernel)",
   "language": "python",
   "name": "python3"
  },
  "language_info": {
   "codemirror_mode": {
    "name": "ipython",
    "version": 3
   },
   "file_extension": ".py",
   "mimetype": "text/x-python",
   "name": "python",
   "nbconvert_exporter": "python",
   "pygments_lexer": "ipython3",
   "version": "3.8.16"
  }
 },
 "nbformat": 4,
 "nbformat_minor": 5
}
