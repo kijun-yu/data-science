{
 "cells": [
  {
   "cell_type": "code",
   "execution_count": 15,
   "id": "6e895d11",
   "metadata": {},
   "outputs": [
    {
     "name": "stdout",
     "output_type": "stream",
     "text": [
      "Kim 950717-*******\n",
      "Park 950830-*******\n",
      "hwang 940311-111213\n"
     ]
    }
   ],
   "source": [
    "data =\"\"\"Kim 950717-1234567\n",
    "Park 950830-2233114\n",
    "hwang 940311-1111213\"\"\"\n",
    "\n",
    "\"\"\"\n",
    "Kim 950717-*******\n",
    "Park 950830-*******\n",
    "\"\"\"\n",
    "result = []\n",
    "for line in data.split(\"\\n\"):\n",
    "    w_result = []\n",
    "    for letters in line.split(\" \"):\n",
    "        if len(letters) == 14 and letters[:6].isdigit()and letters[7:].isdigit():\n",
    "            letters = letters[:6]+ \"-\" + \"*******\"\n",
    "        w_result.append(letters)\n",
    "    result.append(\" \".join(w_result))\n",
    "print('\\n'.join(result))\n",
    "    \n"
   ]
  },
  {
   "cell_type": "code",
   "execution_count": 20,
   "id": "cb02843c",
   "metadata": {},
   "outputs": [
    {
     "name": "stdout",
     "output_type": "stream",
     "text": [
      "Kim 950717-*******\n",
      "Park 950830-*******\n",
      "hwang 940311-*******\n"
     ]
    }
   ],
   "source": [
    "data =\"\"\"Kim 950717-1234567\n",
    "Park 950830-2233114\n",
    "hwang 940311-1211113\"\"\"\n",
    "\n",
    "import re\n",
    "\n",
    "pattern = re.compile(\"(\\d{6})[-]\\d{7}\")\n",
    "print(pattern.sub(\"\\g<1>-*******\", data))"
   ]
  },
  {
   "cell_type": "code",
   "execution_count": 97,
   "id": "5818890a",
   "metadata": {},
   "outputs": [
    {
     "data": {
      "text/plain": [
       "<re.Match object; span=(14, 18), match='.com'>"
      ]
     },
     "execution_count": 97,
     "metadata": {},
     "output_type": "execute_result"
    }
   ],
   "source": [
    "re.search(\".com$\", \"www.logncoding.com\")"
   ]
  },
  {
   "cell_type": "code",
   "execution_count": 112,
   "id": "97a2dfc0",
   "metadata": {},
   "outputs": [
    {
     "data": {
      "text/plain": [
       "<re.Match object; span=(4, 9), match='world'>"
      ]
     },
     "execution_count": 112,
     "metadata": {},
     "output_type": "execute_result"
    }
   ],
   "source": [
    "re.search(\"(?<!hello)world\", \"hellworld\")"
   ]
  },
  {
   "cell_type": "code",
   "execution_count": 131,
   "id": "73dbd66d",
   "metadata": {},
   "outputs": [],
   "source": [
    "p = re.compile('[a-z]+')"
   ]
  },
  {
   "cell_type": "code",
   "execution_count": 132,
   "id": "a9a4b2e0",
   "metadata": {},
   "outputs": [
    {
     "data": {
      "text/plain": [
       "['aaa', 'bbbbbb']"
      ]
     },
     "execution_count": 132,
     "metadata": {},
     "output_type": "execute_result"
    }
   ],
   "source": [
    "p.findall(\"aaa1bbbbbb\")"
   ]
  },
  {
   "cell_type": "code",
   "execution_count": null,
   "id": "0e2ee6e5",
   "metadata": {},
   "outputs": [],
   "source": [
    "# write expresstion for pattern with any characters from a~e, for 3 times"
   ]
  },
  {
   "cell_type": "code",
   "execution_count": 139,
   "id": "57d72f38",
   "metadata": {},
   "outputs": [
    {
     "data": {
      "text/plain": [
       "<re.Match object; span=(0, 3), match='bec'>"
      ]
     },
     "execution_count": 139,
     "metadata": {},
     "output_type": "execute_result"
    }
   ],
   "source": [
    "pat = re.compile(\"[a-e]{3,3}\")\n",
    "pat.match(\"became\")"
   ]
  },
  {
   "cell_type": "code",
   "execution_count": 140,
   "id": "d58a9faf",
   "metadata": {},
   "outputs": [],
   "source": [
    "story = \"\"\"Born to the prestigious Crownguards, the paragon family of Demacian service, Luxanna was destined for greatness. She grew up as the family's only daughter, and she immediately took to the advanced education and lavish parties required of families as high profile as the Crownguards. As Lux matured, it became clear that she was extraordinarily gifted. She could play tricks that made people believe they had seen things that did not actually exist. She could also hide in plain sight. Somehow, she was able to reverse engineer arcane magical spells after seeing them cast only once. She was hailed as a prodigy, drawing the affections of the Demacian government, military, and citizens alike.\n",
    "As one of the youngest women to be tested by the College of Magic, she was discovered to possess a unique command over the powers of light. The young Lux viewed this as a great gift, something for her to embrace and use in the name of good. Realizing her unique skills, the Demacian military recruited and trained her in covert operations. She quickly became renowned for her daring achievements; the most dangerous of which found her deep in the chambers of the Noxian High Command. She extracted valuable inside information about the Noxus-Ionian conflict, earning her great favor with Demacians and Ionians alike. However, reconnaissance and surveillance was not for her. A light of her people, Lux's true calling was the League of Legends, where she could follow in her brother's footsteps and unleash her gifts as an inspiration for all of Demacia.\"\"\""
   ]
  },
  {
   "cell_type": "code",
   "execution_count": 171,
   "id": "1042cf8d",
   "metadata": {},
   "outputs": [],
   "source": [
    "s = re.search(\"(?<=she) was\", story)"
   ]
  },
  {
   "cell_type": "code",
   "execution_count": 177,
   "id": "dd25d4b6",
   "metadata": {},
   "outputs": [
    {
     "data": {
      "text/plain": [
       "<re.Match object; span=(0, 4), match='aaaa'>"
      ]
     },
     "execution_count": 177,
     "metadata": {},
     "output_type": "execute_result"
    }
   ],
   "source": [
    "re.match(\"a{2,4}\", \"aaaaaa\")"
   ]
  },
  {
   "cell_type": "code",
   "execution_count": null,
   "id": "d45b6f52",
   "metadata": {},
   "outputs": [],
   "source": []
  }
 ],
 "metadata": {
  "kernelspec": {
   "display_name": "Python 3 (ipykernel)",
   "language": "python",
   "name": "python3"
  },
  "language_info": {
   "codemirror_mode": {
    "name": "ipython",
    "version": 3
   },
   "file_extension": ".py",
   "mimetype": "text/x-python",
   "name": "python",
   "nbconvert_exporter": "python",
   "pygments_lexer": "ipython3",
   "version": "3.8.16"
  }
 },
 "nbformat": 4,
 "nbformat_minor": 5
}
