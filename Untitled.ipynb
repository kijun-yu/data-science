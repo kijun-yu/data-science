{
 "cells": [
  {
   "cell_type": "code",
   "execution_count": 5,
   "id": "b2adbd21",
   "metadata": {},
   "outputs": [],
   "source": [
    "import numpy as np"
   ]
  },
  {
   "cell_type": "code",
   "execution_count": 7,
   "id": "21705b1c",
   "metadata": {},
   "outputs": [
    {
     "name": "stdout",
     "output_type": "stream",
     "text": [
      "[1, 2, 3, 4, 5]\n"
     ]
    }
   ],
   "source": [
    "data1 = [1,2,3,4,5]\n",
    "\n",
    "print(data1)"
   ]
  },
  {
   "cell_type": "code",
   "execution_count": 8,
   "id": "7804b2c2",
   "metadata": {},
   "outputs": [
    {
     "name": "stdout",
     "output_type": "stream",
     "text": [
      "<class 'list'>\n"
     ]
    }
   ],
   "source": [
    "print(type(data1))"
   ]
  },
  {
   "cell_type": "code",
   "execution_count": 9,
   "id": "7c22a5aa",
   "metadata": {},
   "outputs": [
    {
     "name": "stdout",
     "output_type": "stream",
     "text": [
      "[1 2 3 4 5]\n"
     ]
    }
   ],
   "source": [
    "arr1 = np.array(data1)\n",
    "print(arr1)"
   ]
  },
  {
   "cell_type": "code",
   "execution_count": 12,
   "id": "1fb14f17",
   "metadata": {},
   "outputs": [
    {
     "name": "stdout",
     "output_type": "stream",
     "text": [
      "<class 'numpy.ndarray'> (5,)\n"
     ]
    }
   ],
   "source": [
    "print(type(arr1), arr1.shape)"
   ]
  },
  {
   "cell_type": "code",
   "execution_count": 19,
   "id": "b9ad4db3",
   "metadata": {},
   "outputs": [],
   "source": [
    "data2 = [[1,2,3],[4,5,6],[7,8,9]]\n",
    "arr2 = np.array(data2)"
   ]
  },
  {
   "cell_type": "code",
   "execution_count": 20,
   "id": "a17ef604",
   "metadata": {},
   "outputs": [
    {
     "name": "stdout",
     "output_type": "stream",
     "text": [
      "[[1 2 3]\n",
      " [4 5 6]\n",
      " [7 8 9]] (3, 3)\n"
     ]
    }
   ],
   "source": [
    "print(arr2, arr2.shape)"
   ]
  },
  {
   "cell_type": "code",
   "execution_count": 22,
   "id": "4505cfc5",
   "metadata": {},
   "outputs": [
    {
     "name": "stdout",
     "output_type": "stream",
     "text": [
      "1\n"
     ]
    }
   ],
   "source": [
    "# dimension\n",
    "print(arr1.ndim)"
   ]
  },
  {
   "cell_type": "code",
   "execution_count": 23,
   "id": "c3955355",
   "metadata": {},
   "outputs": [
    {
     "name": "stdout",
     "output_type": "stream",
     "text": [
      "(5,)\n"
     ]
    }
   ],
   "source": [
    "# shape\n",
    "print(arr1.shape)"
   ]
  },
  {
   "cell_type": "code",
   "execution_count": 25,
   "id": "97ab8e89",
   "metadata": {},
   "outputs": [
    {
     "name": "stdout",
     "output_type": "stream",
     "text": [
      "9\n"
     ]
    }
   ],
   "source": [
    "# size\n",
    "print(arr2.size)"
   ]
  },
  {
   "cell_type": "code",
   "execution_count": 26,
   "id": "e00d5504",
   "metadata": {},
   "outputs": [
    {
     "name": "stdout",
     "output_type": "stream",
     "text": [
      "int32\n"
     ]
    }
   ],
   "source": [
    "# size\n",
    "print(arr2.dtype)"
   ]
  },
  {
   "cell_type": "code",
   "execution_count": 27,
   "id": "f13d5512",
   "metadata": {},
   "outputs": [
    {
     "name": "stdout",
     "output_type": "stream",
     "text": [
      "4\n"
     ]
    }
   ],
   "source": [
    "# itemsize\n",
    "print(arr2.itemsize)"
   ]
  },
  {
   "cell_type": "code",
   "execution_count": 28,
   "id": "e6c458ec",
   "metadata": {},
   "outputs": [
    {
     "name": "stdout",
     "output_type": "stream",
     "text": [
      "36\n"
     ]
    }
   ],
   "source": [
    "#memory space\n",
    "\n",
    "print(arr2.nbytes)"
   ]
  },
  {
   "cell_type": "code",
   "execution_count": null,
   "id": "7ab97245",
   "metadata": {},
   "outputs": [],
   "source": []
  },
  {
   "cell_type": "code",
   "execution_count": null,
   "id": "1812cde0",
   "metadata": {},
   "outputs": [],
   "source": []
  },
  {
   "cell_type": "code",
   "execution_count": 29,
   "id": "591095cd",
   "metadata": {},
   "outputs": [],
   "source": [
    "#array initialization"
   ]
  },
  {
   "cell_type": "code",
   "execution_count": 30,
   "id": "9eb0eacc",
   "metadata": {},
   "outputs": [],
   "source": [
    "zeros = np.zeros(5)"
   ]
  },
  {
   "cell_type": "code",
   "execution_count": 31,
   "id": "3f14ec16",
   "metadata": {},
   "outputs": [
    {
     "name": "stdout",
     "output_type": "stream",
     "text": [
      "[0. 0. 0. 0. 0.]\n"
     ]
    }
   ],
   "source": [
    "print(zeros)"
   ]
  },
  {
   "cell_type": "code",
   "execution_count": 32,
   "id": "4459dfa2",
   "metadata": {},
   "outputs": [
    {
     "data": {
      "text/plain": [
       "dtype('float64')"
      ]
     },
     "execution_count": 32,
     "metadata": {},
     "output_type": "execute_result"
    }
   ],
   "source": [
    "zeros.dtype"
   ]
  },
  {
   "cell_type": "code",
   "execution_count": 41,
   "id": "28944164",
   "metadata": {},
   "outputs": [],
   "source": [
    "zeros2 = np.zeros((2,5))"
   ]
  },
  {
   "cell_type": "code",
   "execution_count": 42,
   "id": "832a8f5e",
   "metadata": {},
   "outputs": [
    {
     "name": "stdout",
     "output_type": "stream",
     "text": [
      "[[0. 0. 0. 0. 0.]\n",
      " [0. 0. 0. 0. 0.]]\n"
     ]
    }
   ],
   "source": [
    "print(zeros2)"
   ]
  },
  {
   "cell_type": "code",
   "execution_count": 43,
   "id": "70ca8ccd",
   "metadata": {},
   "outputs": [],
   "source": [
    "ones = np.ones(5)"
   ]
  },
  {
   "cell_type": "code",
   "execution_count": 44,
   "id": "c112d126",
   "metadata": {},
   "outputs": [
    {
     "name": "stdout",
     "output_type": "stream",
     "text": [
      "[1. 1. 1. 1. 1.]\n"
     ]
    }
   ],
   "source": [
    "print(ones)"
   ]
  },
  {
   "cell_type": "code",
   "execution_count": 50,
   "id": "96020cae",
   "metadata": {},
   "outputs": [],
   "source": [
    "arr = np.arange(5,10,2)"
   ]
  },
  {
   "cell_type": "code",
   "execution_count": 51,
   "id": "d5f1e643",
   "metadata": {},
   "outputs": [
    {
     "data": {
      "text/plain": [
       "array([5, 7, 9])"
      ]
     },
     "execution_count": 51,
     "metadata": {},
     "output_type": "execute_result"
    }
   ],
   "source": [
    "arr"
   ]
  },
  {
   "cell_type": "code",
   "execution_count": 54,
   "id": "a646c28f",
   "metadata": {},
   "outputs": [
    {
     "name": "stdout",
     "output_type": "stream",
     "text": [
      "[ 7 14 21 28 35 42 49 56 63 70 77 84 91 98]\n"
     ]
    }
   ],
   "source": [
    "num7 = np.arange(7,101,7)\n",
    "print(num3)"
   ]
  },
  {
   "cell_type": "code",
   "execution_count": 59,
   "id": "be30f171",
   "metadata": {},
   "outputs": [],
   "source": [
    "num7 = num7.reshape(7,2)"
   ]
  },
  {
   "cell_type": "code",
   "execution_count": 60,
   "id": "cedbe32d",
   "metadata": {},
   "outputs": [
    {
     "data": {
      "text/plain": [
       "array([[ 7, 14],\n",
       "       [21, 28],\n",
       "       [35, 42],\n",
       "       [49, 56],\n",
       "       [63, 70],\n",
       "       [77, 84],\n",
       "       [91, 98]])"
      ]
     },
     "execution_count": 60,
     "metadata": {},
     "output_type": "execute_result"
    }
   ],
   "source": [
    "num7"
   ]
  },
  {
   "cell_type": "code",
   "execution_count": null,
   "id": "95b37b75",
   "metadata": {},
   "outputs": [],
   "source": []
  },
  {
   "cell_type": "code",
   "execution_count": null,
   "id": "156e74b6",
   "metadata": {},
   "outputs": [],
   "source": []
  },
  {
   "cell_type": "code",
   "execution_count": 61,
   "id": "97a80c85",
   "metadata": {},
   "outputs": [],
   "source": [
    "#array operation\n",
    "\n",
    "# + - * / @"
   ]
  },
  {
   "cell_type": "code",
   "execution_count": 62,
   "id": "ce7c3fbf",
   "metadata": {},
   "outputs": [],
   "source": [
    "arr1 = np.array([1,2,3])\n",
    "arr2 = np.array([4,5,6])"
   ]
  },
  {
   "cell_type": "code",
   "execution_count": 63,
   "id": "becaa3b8",
   "metadata": {},
   "outputs": [
    {
     "name": "stdout",
     "output_type": "stream",
     "text": [
      "[1 2 3] [4 5 6]\n"
     ]
    }
   ],
   "source": [
    "print(arr1, arr2)"
   ]
  },
  {
   "cell_type": "code",
   "execution_count": 64,
   "id": "b2cecabd",
   "metadata": {},
   "outputs": [
    {
     "data": {
      "text/plain": [
       "array([5, 7, 9])"
      ]
     },
     "execution_count": 64,
     "metadata": {},
     "output_type": "execute_result"
    }
   ],
   "source": [
    "arr1 + arr2"
   ]
  },
  {
   "cell_type": "code",
   "execution_count": 66,
   "id": "2a7f1c20",
   "metadata": {},
   "outputs": [
    {
     "data": {
      "text/plain": [
       "array([-3, -3, -3])"
      ]
     },
     "execution_count": 66,
     "metadata": {},
     "output_type": "execute_result"
    }
   ],
   "source": [
    "arr1 - arr2"
   ]
  },
  {
   "cell_type": "code",
   "execution_count": 67,
   "id": "36ab085a",
   "metadata": {},
   "outputs": [
    {
     "data": {
      "text/plain": [
       "array([ 4, 10, 18])"
      ]
     },
     "execution_count": 67,
     "metadata": {},
     "output_type": "execute_result"
    }
   ],
   "source": [
    "arr1 * arr2"
   ]
  },
  {
   "cell_type": "code",
   "execution_count": 72,
   "id": "db734e0e",
   "metadata": {},
   "outputs": [
    {
     "data": {
      "text/plain": [
       "32"
      ]
     },
     "execution_count": 72,
     "metadata": {},
     "output_type": "execute_result"
    }
   ],
   "source": [
    "arr1 @ arr2"
   ]
  },
  {
   "cell_type": "code",
   "execution_count": 73,
   "id": "dc2cca3c",
   "metadata": {},
   "outputs": [],
   "source": [
    "arr1 = np.array([5,1,7])\n",
    "\n",
    "arr2 = np.array([[4,5,6],[1,2,3]])"
   ]
  },
  {
   "cell_type": "code",
   "execution_count": 74,
   "id": "214e3de9",
   "metadata": {},
   "outputs": [
    {
     "data": {
      "text/plain": [
       "array([[ 9,  6, 13],\n",
       "       [ 6,  3, 10]])"
      ]
     },
     "execution_count": 74,
     "metadata": {},
     "output_type": "execute_result"
    }
   ],
   "source": [
    "arr1 + arr2"
   ]
  },
  {
   "cell_type": "code",
   "execution_count": 75,
   "id": "1036af1e",
   "metadata": {},
   "outputs": [
    {
     "data": {
      "text/plain": [
       "array([[0.8, 1. , 1.2],\n",
       "       [0.2, 0.4, 0.6]])"
      ]
     },
     "execution_count": 75,
     "metadata": {},
     "output_type": "execute_result"
    }
   ],
   "source": [
    "np.array([[4,5,6],[1,2,3]]) / 5"
   ]
  },
  {
   "cell_type": "code",
   "execution_count": 76,
   "id": "500d2227",
   "metadata": {},
   "outputs": [],
   "source": [
    "#universal function."
   ]
  },
  {
   "cell_type": "code",
   "execution_count": 77,
   "id": "df5a75bc",
   "metadata": {},
   "outputs": [],
   "source": [
    "arr = np.arange(4,101,4)"
   ]
  },
  {
   "cell_type": "code",
   "execution_count": 79,
   "id": "20a8bdad",
   "metadata": {},
   "outputs": [],
   "source": [
    "arr = arr * 25"
   ]
  },
  {
   "cell_type": "code",
   "execution_count": 80,
   "id": "2e34eb1c",
   "metadata": {},
   "outputs": [
    {
     "name": "stdout",
     "output_type": "stream",
     "text": [
      "[ 100  200  300  400  500  600  700  800  900 1000 1100 1200 1300 1400\n",
      " 1500 1600 1700 1800 1900 2000 2100 2200 2300 2400 2500]\n"
     ]
    }
   ],
   "source": [
    "print(arr)"
   ]
  },
  {
   "cell_type": "code",
   "execution_count": 81,
   "id": "39445bbc",
   "metadata": {},
   "outputs": [],
   "source": [
    "arr = arr / 2"
   ]
  },
  {
   "cell_type": "code",
   "execution_count": 85,
   "id": "1e8a50d1",
   "metadata": {},
   "outputs": [],
   "source": [
    "arr = arr.reshape(5,5)"
   ]
  },
  {
   "cell_type": "code",
   "execution_count": 86,
   "id": "cea9d0f2",
   "metadata": {},
   "outputs": [
    {
     "data": {
      "text/plain": [
       "550.0"
      ]
     },
     "execution_count": 86,
     "metadata": {},
     "output_type": "execute_result"
    }
   ],
   "source": [
    "arr[2][0]"
   ]
  },
  {
   "cell_type": "code",
   "execution_count": 87,
   "id": "92619210",
   "metadata": {},
   "outputs": [
    {
     "data": {
      "text/plain": [
       "array([[  50.,  100.,  150.,  200.,  250.],\n",
       "       [ 300.,  350.,  400.,  450.,  500.],\n",
       "       [ 550.,  600.,  650.,  700.,  750.],\n",
       "       [ 800.,  850.,  900.,  950., 1000.],\n",
       "       [1050., 1100., 1150., 1200., 1250.]])"
      ]
     },
     "execution_count": 87,
     "metadata": {},
     "output_type": "execute_result"
    }
   ],
   "source": [
    "arr"
   ]
  },
  {
   "cell_type": "code",
   "execution_count": 94,
   "id": "0f043f5a",
   "metadata": {},
   "outputs": [
    {
     "data": {
      "text/plain": [
       "array([ 250.,  750., 1250.])"
      ]
     },
     "execution_count": 94,
     "metadata": {},
     "output_type": "execute_result"
    }
   ],
   "source": [
    "arr[:,4][::2]"
   ]
  },
  {
   "cell_type": "code",
   "execution_count": 116,
   "id": "8bce0a86",
   "metadata": {},
   "outputs": [],
   "source": [
    "# masking. - filtering\n",
    "import random"
   ]
  },
  {
   "cell_type": "code",
   "execution_count": 130,
   "id": "c867f5b2",
   "metadata": {},
   "outputs": [
    {
     "name": "stdout",
     "output_type": "stream",
     "text": [
      "[[ 0.44078601  0.42070523 -1.39467564 -0.32041495]\n",
      " [ 1.84291468  0.52162675  0.44428564 -0.76613139]\n",
      " [ 1.37113437 -1.43950486 -0.75050708 -0.90927752]\n",
      " [-0.4226233   1.03416873 -0.18108843  1.89157455]\n",
      " [-0.77028526  2.20564142 -0.27081818  1.80334082]\n",
      " [ 0.89784699  0.19148658  2.21479339 -0.27533336]\n",
      " [-0.52574648  0.43746274 -0.86944923  0.09313662]]\n"
     ]
    }
   ],
   "source": [
    "data = np.random.randn(7,4)\n",
    "print(data)"
   ]
  },
  {
   "cell_type": "code",
   "execution_count": 131,
   "id": "95be7df7",
   "metadata": {},
   "outputs": [
    {
     "name": "stdout",
     "output_type": "stream",
     "text": [
      "[ True False False  True  True False False]\n"
     ]
    }
   ],
   "source": [
    "rule = np.array([1,0,0,1,1,0,0])\n",
    "mask_with_rule = (rule == 1)\n",
    "print(mask_with_rule)"
   ]
  },
  {
   "cell_type": "code",
   "execution_count": 132,
   "id": "04dd9706",
   "metadata": {},
   "outputs": [
    {
     "data": {
      "text/plain": [
       "array([[ 0.44078601,  0.42070523, -1.39467564, -0.32041495],\n",
       "       [-0.4226233 ,  1.03416873, -0.18108843,  1.89157455],\n",
       "       [-0.77028526,  2.20564142, -0.27081818,  1.80334082]])"
      ]
     },
     "execution_count": 132,
     "metadata": {},
     "output_type": "execute_result"
    }
   ],
   "source": [
    "data[mask_with_rule]"
   ]
  },
  {
   "cell_type": "code",
   "execution_count": 133,
   "id": "84021ac4",
   "metadata": {},
   "outputs": [],
   "source": [
    "filter_ = data < 0 "
   ]
  },
  {
   "cell_type": "code",
   "execution_count": 134,
   "id": "7743ea50",
   "metadata": {},
   "outputs": [
    {
     "data": {
      "text/plain": [
       "array([[False, False,  True,  True],\n",
       "       [False, False, False,  True],\n",
       "       [False,  True,  True,  True],\n",
       "       [ True, False,  True, False],\n",
       "       [ True, False,  True, False],\n",
       "       [False, False, False,  True],\n",
       "       [ True, False,  True, False]])"
      ]
     },
     "execution_count": 134,
     "metadata": {},
     "output_type": "execute_result"
    }
   ],
   "source": [
    "filter_"
   ]
  },
  {
   "cell_type": "code",
   "execution_count": 135,
   "id": "92e62752",
   "metadata": {},
   "outputs": [],
   "source": [
    "data[filter_] = 0"
   ]
  },
  {
   "cell_type": "code",
   "execution_count": 136,
   "id": "3d84e5a8",
   "metadata": {},
   "outputs": [
    {
     "data": {
      "text/plain": [
       "array([[0.44078601, 0.42070523, 0.        , 0.        ],\n",
       "       [1.84291468, 0.52162675, 0.44428564, 0.        ],\n",
       "       [1.37113437, 0.        , 0.        , 0.        ],\n",
       "       [0.        , 1.03416873, 0.        , 1.89157455],\n",
       "       [0.        , 2.20564142, 0.        , 1.80334082],\n",
       "       [0.89784699, 0.19148658, 2.21479339, 0.        ],\n",
       "       [0.        , 0.43746274, 0.        , 0.09313662]])"
      ]
     },
     "execution_count": 136,
     "metadata": {},
     "output_type": "execute_result"
    }
   ],
   "source": [
    "data"
   ]
  },
  {
   "cell_type": "code",
   "execution_count": 138,
   "id": "830c06bd",
   "metadata": {},
   "outputs": [
    {
     "name": "stdout",
     "output_type": "stream",
     "text": [
      "[[-0.3809931  -0.06648502  0.90269203  0.19731441]\n",
      " [-0.94770577 -0.05481797 -2.190972   -0.3521862 ]\n",
      " [-0.83960294  0.60950915 -0.58221257  0.6225376 ]\n",
      " [-0.64291259 -0.61738258  0.71761262  1.9072692 ]\n",
      " [ 0.64136544 -1.78881044 -1.992773    0.11809528]\n",
      " [ 0.87801011 -0.59303437 -0.47917746  0.20614133]\n",
      " [-0.68654713  0.27788527  0.27598433 -0.27753451]]\n"
     ]
    }
   ],
   "source": [
    "data = np.random.randn(7,4)\n",
    "print(data)"
   ]
  },
  {
   "cell_type": "code",
   "execution_count": 139,
   "id": "bb1a9cae",
   "metadata": {},
   "outputs": [],
   "source": [
    "filter1 = data[:,2]"
   ]
  },
  {
   "cell_type": "code",
   "execution_count": 140,
   "id": "26c988b3",
   "metadata": {},
   "outputs": [
    {
     "data": {
      "text/plain": [
       "array([ 0.90269203, -2.190972  , -0.58221257,  0.71761262, -1.992773  ,\n",
       "       -0.47917746,  0.27598433])"
      ]
     },
     "execution_count": 140,
     "metadata": {},
     "output_type": "execute_result"
    }
   ],
   "source": [
    "filter1"
   ]
  },
  {
   "cell_type": "code",
   "execution_count": 141,
   "id": "7f6b418a",
   "metadata": {},
   "outputs": [],
   "source": [
    "filter2 = (filter1 > 0)"
   ]
  },
  {
   "cell_type": "code",
   "execution_count": 142,
   "id": "4f48bd92",
   "metadata": {},
   "outputs": [
    {
     "data": {
      "text/plain": [
       "array([ True, False, False,  True, False, False,  True])"
      ]
     },
     "execution_count": 142,
     "metadata": {},
     "output_type": "execute_result"
    }
   ],
   "source": [
    "filter2"
   ]
  },
  {
   "cell_type": "code",
   "execution_count": 152,
   "id": "3f2f96aa",
   "metadata": {},
   "outputs": [
    {
     "data": {
      "text/plain": [
       "array([[-0.06648502,  0.90269203],\n",
       "       [-0.05481797, -2.190972  ],\n",
       "       [ 0.60950915, -0.58221257],\n",
       "       [-0.61738258,  0.71761262],\n",
       "       [-1.78881044, -1.992773  ],\n",
       "       [-0.59303437, -0.47917746],\n",
       "       [ 0.27788527,  0.27598433]])"
      ]
     },
     "execution_count": 152,
     "metadata": {},
     "output_type": "execute_result"
    }
   ],
   "source": [
    "data[:,data[6]> 0]"
   ]
  },
  {
   "cell_type": "code",
   "execution_count": 153,
   "id": "e929c331",
   "metadata": {},
   "outputs": [],
   "source": [
    "arr1 = np.array([1,2,3,4])\n",
    "arr2 = np.array([3,4,5,6])"
   ]
  },
  {
   "cell_type": "code",
   "execution_count": 154,
   "id": "57d61350",
   "metadata": {},
   "outputs": [],
   "source": [
    "arr3 = np.concatenate([arr1, arr2])"
   ]
  },
  {
   "cell_type": "code",
   "execution_count": 158,
   "id": "bebfaa8b",
   "metadata": {},
   "outputs": [
    {
     "data": {
      "text/plain": [
       "array([1, 2, 3, 4, 3, 4, 5, 6])"
      ]
     },
     "execution_count": 158,
     "metadata": {},
     "output_type": "execute_result"
    }
   ],
   "source": [
    "arr3"
   ]
  },
  {
   "cell_type": "code",
   "execution_count": 156,
   "id": "83ccaac2",
   "metadata": {},
   "outputs": [],
   "source": [
    "arr4 = np.vstack([arr1, arr2])"
   ]
  },
  {
   "cell_type": "code",
   "execution_count": 157,
   "id": "4289b0ed",
   "metadata": {},
   "outputs": [
    {
     "data": {
      "text/plain": [
       "array([[1, 2, 3, 4],\n",
       "       [3, 4, 5, 6]])"
      ]
     },
     "execution_count": 157,
     "metadata": {},
     "output_type": "execute_result"
    }
   ],
   "source": [
    "arr4"
   ]
  },
  {
   "cell_type": "code",
   "execution_count": 159,
   "id": "04067136",
   "metadata": {},
   "outputs": [],
   "source": [
    "big_array = np.random.randint(1,101, size = 1000000)"
   ]
  },
  {
   "cell_type": "code",
   "execution_count": 161,
   "id": "0371cab3",
   "metadata": {},
   "outputs": [
    {
     "name": "stdout",
     "output_type": "stream",
     "text": [
      "1000000\n"
     ]
    }
   ],
   "source": [
    "print(len(big_array))"
   ]
  },
  {
   "cell_type": "code",
   "execution_count": 162,
   "id": "1b6a6e62",
   "metadata": {},
   "outputs": [],
   "source": [
    "def revers_num(values):\n",
    "    output = np.empty(len(values))\n",
    "    \n",
    "    for i in range(len(values)):\n",
    "        output[i] = 1 / values[i]\n",
    "    return output"
   ]
  },
  {
   "cell_type": "code",
   "execution_count": 163,
   "id": "37e8114a",
   "metadata": {},
   "outputs": [
    {
     "name": "stdout",
     "output_type": "stream",
     "text": [
      "3.87 ms ± 248 µs per loop (mean ± std. dev. of 7 runs, 100 loops each)\n"
     ]
    }
   ],
   "source": [
    "%timeit 1.0/big_array"
   ]
  },
  {
   "cell_type": "code",
   "execution_count": 164,
   "id": "67fa8ddc",
   "metadata": {},
   "outputs": [
    {
     "name": "stdout",
     "output_type": "stream",
     "text": [
      "219 ms ± 8.01 ms per loop (mean ± std. dev. of 7 runs, 1 loop each)\n"
     ]
    }
   ],
   "source": [
    "%timeit revers_num(big_array)"
   ]
  },
  {
   "cell_type": "code",
   "execution_count": 166,
   "id": "374dfbb7",
   "metadata": {},
   "outputs": [],
   "source": [
    "data = np.random.randint(1,101, (25,16))"
   ]
  },
  {
   "cell_type": "code",
   "execution_count": 168,
   "id": "f86028f8",
   "metadata": {},
   "outputs": [
    {
     "data": {
      "text/plain": [
       "400"
      ]
     },
     "execution_count": 168,
     "metadata": {},
     "output_type": "execute_result"
    }
   ],
   "source": [
    "data. size"
   ]
  },
  {
   "cell_type": "code",
   "execution_count": 169,
   "id": "2d0429d0",
   "metadata": {},
   "outputs": [
    {
     "data": {
      "text/plain": [
       "49.4575"
      ]
     },
     "execution_count": 169,
     "metadata": {},
     "output_type": "execute_result"
    }
   ],
   "source": [
    "np.mean(data)"
   ]
  },
  {
   "cell_type": "code",
   "execution_count": 170,
   "id": "40a96906",
   "metadata": {},
   "outputs": [
    {
     "data": {
      "text/plain": [
       "100"
      ]
     },
     "execution_count": 170,
     "metadata": {},
     "output_type": "execute_result"
    }
   ],
   "source": [
    "np.max(data)"
   ]
  },
  {
   "cell_type": "code",
   "execution_count": 171,
   "id": "e0049ac4",
   "metadata": {},
   "outputs": [
    {
     "data": {
      "text/plain": [
       "1"
      ]
     },
     "execution_count": 171,
     "metadata": {},
     "output_type": "execute_result"
    }
   ],
   "source": [
    "np.min(data)"
   ]
  },
  {
   "cell_type": "code",
   "execution_count": 172,
   "id": "7464c4f6",
   "metadata": {},
   "outputs": [
    {
     "data": {
      "text/plain": [
       "28.505581799886137"
      ]
     },
     "execution_count": 172,
     "metadata": {},
     "output_type": "execute_result"
    }
   ],
   "source": [
    "np.std(data)"
   ]
  },
  {
   "cell_type": "code",
   "execution_count": 174,
   "id": "2498d0c0",
   "metadata": {},
   "outputs": [
    {
     "data": {
      "text/plain": [
       "array([   44,    93,   182,   230,   236,   298,   342,   418,   450,\n",
       "         461,   479,   572,   656,   665,   762,   793,   840,   856,\n",
       "         910,   923,   944,  1010,  1053,  1127,  1209,  1294,  1381,\n",
       "        1431,  1432,  1468,  1534,  1622,  1670,  1716,  1789,  1871,\n",
       "        1901,  1961,  2054,  2096,  2098,  2104,  2112,  2115,  2201,\n",
       "        2236,  2287,  2336,  2390,  2469,  2557,  2597,  2626,  2720,\n",
       "        2744,  2820,  2834,  2921,  2991,  3074,  3150,  3163,  3174,\n",
       "        3263,  3323,  3348,  3369,  3451,  3471,  3517,  3613,  3643,\n",
       "        3739,  3795,  3855,  3887,  3948,  3966,  4054,  4107,  4143,\n",
       "        4215,  4227,  4232,  4262,  4329,  4337,  4372,  4422,  4487,\n",
       "        4517,  4555,  4608,  4662,  4760,  4795,  4836,  4865,  4918,\n",
       "        4978,  5075,  5107,  5151,  5201,  5255,  5286,  5374,  5430,\n",
       "        5500,  5519,  5598,  5621,  5718,  5816,  5857,  5948,  6035,\n",
       "        6057,  6136,  6228,  6310,  6385,  6480,  6559,  6654,  6678,\n",
       "        6701,  6794,  6826,  6841,  6914,  6999,  7000,  7042,  7049,\n",
       "        7121,  7158,  7166,  7207,  7289,  7388,  7443,  7539,  7623,\n",
       "        7680,  7738,  7817,  7838,  7930,  7969,  8059,  8157,  8189,\n",
       "        8246,  8271,  8336,  8428,  8454,  8467,  8520,  8560,  8616,\n",
       "        8706,  8709,  8750,  8811,  8816,  8890,  8894,  8958,  8982,\n",
       "        9054,  9071,  9079,  9145,  9179,  9186,  9222,  9270,  9294,\n",
       "        9343,  9411,  9447,  9531,  9626,  9667,  9670,  9732,  9737,\n",
       "        9828,  9874,  9913,  9947,  9983,  9998, 10017, 10086, 10112,\n",
       "       10141, 10176, 10214, 10234, 10326, 10339, 10363, 10373, 10423,\n",
       "       10503, 10524, 10525, 10543, 10632, 10714, 10793, 10844, 10852,\n",
       "       10935, 10936, 10970, 10997, 11083, 11168, 11197, 11220, 11319,\n",
       "       11395, 11491, 11525, 11580, 11585, 11675, 11739, 11828, 11916,\n",
       "       11946, 11952, 12045, 12084, 12137, 12219, 12245, 12330, 12365,\n",
       "       12388, 12391, 12406, 12423, 12504, 12519, 12555, 12619, 12643,\n",
       "       12668, 12718, 12770, 12819, 12877, 12884, 12953, 12979, 13017,\n",
       "       13111, 13134, 13186, 13254, 13257, 13293, 13378, 13439, 13502,\n",
       "       13535, 13629, 13685, 13761, 13789, 13861, 13881, 13901, 13906,\n",
       "       13909, 13973, 14025, 14044, 14077, 14129, 14133, 14211, 14303,\n",
       "       14389, 14480, 14566, 14587, 14619, 14717, 14761, 14815, 14880,\n",
       "       14925, 15001, 15088, 15127, 15154, 15230, 15235, 15236, 15306,\n",
       "       15334, 15348, 15420, 15429, 15488, 15540, 15568, 15587, 15643,\n",
       "       15685, 15690, 15766, 15864, 15914, 15941, 15996, 16021, 16098,\n",
       "       16112, 16155, 16241, 16291, 16334, 16350, 16358, 16431, 16498,\n",
       "       16574, 16652, 16665, 16686, 16742, 16814, 16862, 16939, 16990,\n",
       "       17050, 17135, 17144, 17153, 17225, 17280, 17354, 17416, 17436,\n",
       "       17467, 17509, 17560, 17598, 17648, 17712, 17783, 17815, 17834,\n",
       "       17861, 17903, 17972, 17976, 18054, 18149, 18181, 18214, 18314,\n",
       "       18362, 18413, 18439, 18454, 18491, 18578, 18637, 18646, 18717,\n",
       "       18755, 18764, 18835, 18878, 18966, 18995, 19002, 19098, 19186,\n",
       "       19249, 19304, 19386, 19444, 19492, 19558, 19614, 19633, 19676,\n",
       "       19693, 19723, 19780, 19783])"
      ]
     },
     "execution_count": 174,
     "metadata": {},
     "output_type": "execute_result"
    }
   ],
   "source": [
    "np.cumsum(data)"
   ]
  },
  {
   "cell_type": "code",
   "execution_count": 175,
   "id": "f17cd437",
   "metadata": {},
   "outputs": [
    {
     "data": {
      "text/plain": [
       "19783"
      ]
     },
     "execution_count": 175,
     "metadata": {},
     "output_type": "execute_result"
    }
   ],
   "source": [
    "np.sum(data)"
   ]
  },
  {
   "cell_type": "code",
   "execution_count": 178,
   "id": "9da2b95c",
   "metadata": {},
   "outputs": [
    {
     "data": {
      "text/plain": [
       "array([[  1,   1,  12,   3,   1,   5,   5,   3,   2,   1,   3,   3,   1,\n",
       "          4,  11,   3],\n",
       "       [  7,   7,  15,   5,   3,   9,   5,   8,   4,   3,   8,   4,   5,\n",
       "          8,  13,   5],\n",
       "       [  7,  15,  18,  13,   6,  15,   7,  19,   9,   6,   8,   6,   5,\n",
       "          9,  20,  13],\n",
       "       [ 21,  16,  21,  14,  14,  20,   8,  30,   9,   8,  18,   9,  17,\n",
       "         10,  23,  23],\n",
       "       [ 21,  25,  25,  19,  15,  22,  17,  35,  14,   9,  19,  13,  17,\n",
       "         13,  29,  23],\n",
       "       [ 26,  29,  28,  21,  20,  26,  23,  35,  15,  11,  19,  24,  24,\n",
       "         18,  32,  29],\n",
       "       [ 27,  36,  28,  21,  20,  32,  24,  42,  27,  16,  24,  27,  25,\n",
       "         19,  33,  31],\n",
       "       [ 32,  36,  35,  23,  21,  37,  29,  48,  28,  19,  25,  32,  39,\n",
       "         24,  46,  31],\n",
       "       [ 34,  46,  38,  24,  29,  39,  32,  50,  32,  20,  30,  33,  52,\n",
       "         26,  50,  33],\n",
       "       [ 36,  48,  41,  26,  30,  42,  36,  50,  32,  31,  30,  38,  53,\n",
       "         27,  51,  34],\n",
       "       [ 40,  49,  48,  26,  30,  43,  43,  52,  37,  36,  34,  42,  61,\n",
       "         30,  52,  35],\n",
       "       [ 41,  51,  51,  34,  32,  46,  44,  52,  38,  41,  36,  43,  61,\n",
       "         35,  53,  39],\n",
       "       [ 42,  55,  53,  40,  38,  51,  44,  54,  43,  42,  38,  50,  67,\n",
       "         36,  57,  49],\n",
       "       [ 44,  56,  54,  48,  41,  60,  44,  59,  50,  45,  41,  55,  70,\n",
       "         39,  66,  49],\n",
       "       [ 47,  56,  69,  48,  49,  61,  51,  64,  54,  52,  56,  56,  71,\n",
       "         43,  66,  50],\n",
       "       [ 48,  58,  72,  50,  55,  62,  58,  72,  64,  56,  60,  62,  74,\n",
       "         50,  76,  53],\n",
       "       [ 54,  70,  73,  60,  55,  66,  59,  74,  65,  56,  64,  65,  76,\n",
       "         54,  78,  53],\n",
       "       [ 56,  72,  73,  63,  64,  67,  60,  74,  66,  57,  69,  72,  78,\n",
       "         55,  78,  80],\n",
       "       [ 57,  76,  79,  72,  69,  68,  79,  76,  68,  64,  70,  73,  84,\n",
       "         62,  79,  82],\n",
       "       [ 58,  76,  86,  77,  72,  71,  86,  76,  82,  65,  72,  79,  86,\n",
       "         63,  88,  84],\n",
       "       [ 60,  79,  88,  82,  77,  79,  87,  81,  82,  71,  76,  82,  86,\n",
       "         76,  88,  88],\n",
       "       [ 86,  85,  88,  82,  82,  82,  90,  84,  83,  75,  87,  83,  92,\n",
       "         76,  96,  89],\n",
       "       [ 97,  91,  89,  85,  87,  94,  90,  85,  89,  85,  88,  85,  93,\n",
       "         85,  97,  92],\n",
       "       [ 99,  96,  90,  89,  92,  94,  93,  92,  95,  87,  92,  87,  95,\n",
       "         91,  98,  93],\n",
       "       [100,  98,  96,  91,  97,  98,  96,  98,  96,  88,  95,  93,  99,\n",
       "         95,  98,  94]])"
      ]
     },
     "execution_count": 178,
     "metadata": {},
     "output_type": "execute_result"
    }
   ],
   "source": [
    "np.sort(data, axis = 0)"
   ]
  },
  {
   "cell_type": "code",
   "execution_count": 179,
   "id": "5152985a",
   "metadata": {},
   "outputs": [
    {
     "name": "stdout",
     "output_type": "stream",
     "text": [
      "4.300000000000001\n"
     ]
    }
   ],
   "source": [
    "print(2.2 + 2.1)"
   ]
  },
  {
   "cell_type": "code",
   "execution_count": 180,
   "id": "44a86f77",
   "metadata": {},
   "outputs": [
    {
     "data": {
      "text/plain": [
       "array([4.3])"
      ]
     },
     "execution_count": 180,
     "metadata": {},
     "output_type": "execute_result"
    }
   ],
   "source": [
    "a = np.array([2.2])\n",
    "b = np.array([2.1])\n",
    "a+b"
   ]
  },
  {
   "cell_type": "code",
   "execution_count": null,
   "id": "89559235",
   "metadata": {},
   "outputs": [],
   "source": []
  }
 ],
 "metadata": {
  "kernelspec": {
   "display_name": "Python 3 (ipykernel)",
   "language": "python",
   "name": "python3"
  },
  "language_info": {
   "codemirror_mode": {
    "name": "ipython",
    "version": 3
   },
   "file_extension": ".py",
   "mimetype": "text/x-python",
   "name": "python",
   "nbconvert_exporter": "python",
   "pygments_lexer": "ipython3",
   "version": "3.8.16"
  }
 },
 "nbformat": 4,
 "nbformat_minor": 5
}
